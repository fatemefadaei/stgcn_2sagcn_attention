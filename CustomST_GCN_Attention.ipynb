{
  "cells": [
    {
      "cell_type": "code",
      "source": [
        "from google.colab import drive\n",
        "drive.mount('/content/drive')"
      ],
      "metadata": {
        "id": "dwiuI7pedVzp",
        "colab": {
          "base_uri": "https://localhost:8080/"
        },
        "outputId": "a6b5c585-9617-47ed-d397-a69f760c7f1c"
      },
      "execution_count": null,
      "outputs": [
        {
          "output_type": "stream",
          "name": "stdout",
          "text": [
            "Mounted at /content/drive\n"
          ]
        }
      ]
    },
    {
      "cell_type": "code",
      "source": [
        "import numpy as np\n",
        "import matplotlib.pyplot as plt\n",
        "import torch\n",
        "import torch.nn as nn\n",
        "import torch.nn.functional as F"
      ],
      "metadata": {
        "id": "rwUrefn04Vjw"
      },
      "execution_count": null,
      "outputs": []
    },
    {
      "cell_type": "code",
      "source": [
        "print('Use CUDA:', torch.cuda.is_available())"
      ],
      "metadata": {
        "colab": {
          "base_uri": "https://localhost:8080/"
        },
        "id": "3bx-2j-X4XC4",
        "outputId": "e2dde15b-56d4-4869-f655-73102ec644ba"
      },
      "execution_count": null,
      "outputs": [
        {
          "output_type": "stream",
          "name": "stdout",
          "text": [
            "Use CUDA: True\n"
          ]
        }
      ]
    },
    {
      "cell_type": "code",
      "source": [
        "seed = 123\n",
        "np.random.seed(seed)\n",
        "torch.manual_seed(seed)\n",
        "torch.cuda.manual_seed(seed)\n",
        "\n",
        "torch.backends.cudnn.deterministic = True\n",
        "torch.use_deterministic_algorithms = True"
      ],
      "metadata": {
        "id": "nlsCRsXu4ZAi"
      },
      "execution_count": null,
      "outputs": []
    },
    {
      "cell_type": "code",
      "source": [
        "def reshape_instance(ins):\n",
        "  _,size,_,_=ins.shape\n",
        "  return ins.reshape(3,size,25)\n"
      ],
      "metadata": {
        "id": "WixQu-kpLiWa"
      },
      "execution_count": null,
      "outputs": []
    },
    {
      "cell_type": "code",
      "source": [
        "def crop_clip(data , length=300):\n",
        "  for item_iter in range(len(data)):\n",
        "    if data[item_iter].shape[1]>length:\n",
        "      data[item_iter]= data[item_iter][:,:length,:]\n",
        "  return data"
      ],
      "metadata": {
        "id": "GuELNH8H5lJA"
      },
      "execution_count": null,
      "outputs": []
    },
    {
      "cell_type": "markdown",
      "source": [
        "### Loading Dataset pickles"
      ],
      "metadata": {
        "id": "TAYeKd9fzZju"
      }
    },
    {
      "cell_type": "code",
      "source": [
        "import pickle\n",
        "with open('/content/drive/MyDrive/Park/train_3d.pkl', 'rb') as f:\n",
        "    train_data = pickle.load(f)\n",
        "    # train_label = [int(i['label']/10) for i in train_data]\n",
        "    train_label = [i['label'] for i in train_data]\n",
        "    print(train_label[:10])\n",
        "    train_data = [reshape_instance(i['keypoint']) for i in train_data]\n",
        "\n",
        "with open('/content/drive/MyDrive/Park/test_3d.pkl', 'rb') as f:\n",
        "    test_data = pickle.load(f)\n",
        "    # test_label = [int(i['label']/10) for i in test_data]\n",
        "    test_label = [i['label'] for i in test_data]\n",
        "    print(test_label[:10])\n",
        "    test_data = [reshape_instance(i['keypoint']) for i in test_data]\n",
        "\n",
        "\n",
        "with open('/content/drive/MyDrive/Park/val_3d.pkl', 'rb') as f:\n",
        "    val_data = pickle.load(f)\n",
        "    # val_label = [int(i['label']/10) for i in val_data]\n",
        "    val_label = [i['label'] for i in val_data]\n",
        "    print(val_label[:10])\n",
        "    val_data = [reshape_instance(i['keypoint']) for i in val_data]\n",
        "\n",
        "train_data = crop_clip(train_data)\n",
        "test_data = crop_clip(test_data)\n",
        "val_data = crop_clip(val_data)"
      ],
      "metadata": {
        "colab": {
          "base_uri": "https://localhost:8080/"
        },
        "id": "F7lc0LCAGzFr",
        "outputId": "831b7353-4d64-4a91-bb92-d7a139fd397f"
      },
      "execution_count": null,
      "outputs": [
        {
          "output_type": "stream",
          "name": "stdout",
          "text": [
            "[71, 24, 87, 93, 69, 51, 21, 79, 36, 79]\n",
            "[21, 63, 87, 1, 2, 59, 30, 16, 8, 26]\n",
            "[5, 9, 52, 93, 4, 71, 59, 13, 7, 87]\n"
          ]
        }
      ]
    },
    {
      "cell_type": "code",
      "source": [
        "max(train_label)"
      ],
      "metadata": {
        "colab": {
          "base_uri": "https://localhost:8080/"
        },
        "id": "DQbp4QbOJtmd",
        "outputId": "fd65c3f0-7c10-4d8e-a887-14c7841ea47a"
      },
      "execution_count": null,
      "outputs": [
        {
          "output_type": "execute_result",
          "data": {
            "text/plain": [
              "96"
            ]
          },
          "metadata": {},
          "execution_count": 8
        }
      ]
    },
    {
      "cell_type": "markdown",
      "source": [
        "### Defining collator and feeder"
      ],
      "metadata": {
        "id": "YrzO20amz8th"
      }
    },
    {
      "cell_type": "code",
      "source": [
        "from keras.preprocessing import sequence\n",
        "from torch.nn.utils.rnn import pad_sequence\n",
        "class MyCollator(object):   # makes data on each batch, same in size(length) here length will be at most 300.\n",
        "    def __init__(self,test=False,percentile=4750):\n",
        "        self.test = test\n",
        "        self.percentile = percentile\n",
        "    def __call__(self, batch):\n",
        "        max_len = 300 # default max len\n",
        "        max_len2 = max([x[0].shape[2] for x in batch]) # max len of all instances\n",
        "        batch = sorted(batch, key=lambda x: x[0].shape[1], reverse=True) # sort data of batch based on length\n",
        "        target = [item[1] for item in batch]# list of labels\n",
        "        data = [torch.Tensor(item[0]) for item in batch]# list of data\n",
        "        padded_batch = [torch.nn.functional.pad(torch.Tensor(gif[0]), ( 0,0,max_len - gif[0].shape[1], 0)) for gif in batch] # make data the same length here\n",
        "        return [torch.stack(padded_batch),target] # concat padded_data and labels as new batch. now the model will be error free\n",
        "\n",
        "\n"
      ],
      "metadata": {
        "id": "u0me7XrAgq1l"
      },
      "execution_count": null,
      "outputs": []
    },
    {
      "cell_type": "code",
      "source": [
        "\n",
        "class Feeder(torch.utils.data.Dataset): # feeds data to model\n",
        "  def __init__(self, data, label):\n",
        "      super().__init__()\n",
        "      self.label = label\n",
        "      self.data = data\n",
        "\n",
        "  def __len__(self):\n",
        "      return len(self.label)\n",
        "\n",
        "  def __iter__(self):\n",
        "      return self\n",
        "\n",
        "  def __getitem__(self, index):\n",
        "      data = np.array(self.data[index])\n",
        "      label = self.label[index]\n",
        "\n",
        "      return data, label"
      ],
      "metadata": {
        "id": "Asb7794y4dys"
      },
      "execution_count": null,
      "outputs": []
    },
    {
      "cell_type": "markdown",
      "source": [
        "### Defining Graph to load data in the way ntu+rgb D models give it to action recongnition model"
      ],
      "metadata": {
        "id": "WOpHygT-zq-T"
      }
    },
    {
      "cell_type": "code",
      "execution_count": null,
      "metadata": {
        "id": "IFV6MAuFds7V"
      },
      "outputs": [],
      "source": [
        "class Graph():\n",
        "  def __init__(self, hop_size, strategy):\n",
        "    self.get_edge()\n",
        "\n",
        "    self.hop_size = hop_size # nodes to pass in each traverse\n",
        "    self.hop_dis = self.get_hop_distance(self.num_node, self.edge, hop_size=hop_size)\n",
        "\n",
        "    self.get_adjacency(strategy)\n",
        "\n",
        "  def __str__(self):\n",
        "    return self.A\n",
        "\n",
        "  def get_edge(self): # get connected edges in this graph\n",
        "    self.num_node = 25 # its based on the data, experimental\n",
        "    self_link = [(i, i) for i in range(self.num_node)] #edges to the nodes themselves\n",
        "    neighbor_base = [(1, 2), (2, 21), (3, 21), (4, 3), (5, 21), # Main nodes, its based on the data, experimental\n",
        "                      (6, 5), (7, 6), (8, 7), (9, 21), (10, 9),\n",
        "                      (11, 10), (12, 11), (13, 1), (14, 13), (15, 14),\n",
        "                      (16, 15), (17, 1), (18, 17), (19, 18), (20, 19),\n",
        "                      (22, 23), (23, 8), (24, 25), (25, 12)]\n",
        "    neighbor_link = [(i - 1, j - 1) for (i, j) in neighbor_base] # edges to neighbors of the main nodes, its based on the data, experimental\n",
        "    self.self_link = self_link\n",
        "    self.neighbor_link = neighbor_link\n",
        "    self.edge = self_link + neighbor_link # all the edges\n",
        "    self.center = 21 - 1     # central node\n",
        "\n",
        "  def get_adjacency(self, strategy):\n",
        "    valid_hop = range(0, self.hop_size + 1, 1) # how many nodes to traverse\n",
        "    adjacency = np.zeros((self.num_node, self.num_node)) # builds a matrix\n",
        "    for hop in valid_hop:\n",
        "        adjacency[self.hop_dis == hop] = 1 # mark the traverse\n",
        "    normalize_adjacency = self.normalize_digraph(adjacency) # normalization  https://coresignal.com/blog/data-normalization/#:~:text=The%20main%20objective%20of%20database,increase%20security%2C%20and%20lessen%20costs.\n",
        "\n",
        "    if strategy == 'spatial': # spatial technique\n",
        "\n",
        "    # \"\"\"traverses the graph from the central node (root) to a fixed distance (hop size) until it reaches closure.(close)\n",
        "    # this travers makes a circle in the graph, like a domain where we expect main concept of the data,\n",
        "    # for example if the purpose was to find cars, the central node would be somewhere in street, and the domain would be a\n",
        "    # circle in street, all other places would be less important and called (further)\"\"\"\n",
        "\n",
        "      A = []\n",
        "      for hop in valid_hop:\n",
        "          a_root = np.zeros((self.num_node, self.num_node))\n",
        "          a_close = np.zeros((self.num_node, self.num_node))\n",
        "          a_further = np.zeros((self.num_node, self.num_node))\n",
        "          for i in range(self.num_node):\n",
        "              for j in range(self.num_node):\n",
        "                  if self.hop_dis[j, i] == hop:\n",
        "                      if self.hop_dis[j, self.center] == self.hop_dis[\n",
        "                              i, self.center]:\n",
        "                          a_root[j, i] = normalize_adjacency[j, i]\n",
        "                      elif self.hop_dis[j, self.center] > self.hop_dis[\n",
        "                              i, self.center]:\n",
        "                          a_close[j, i] = normalize_adjacency[j, i]\n",
        "                      else:\n",
        "                          a_further[j, i] = normalize_adjacency[j, i]\n",
        "          if hop == 0:\n",
        "              A.append(a_root)\n",
        "          else:\n",
        "              A.append(a_root + a_close)\n",
        "              A.append(a_further)\n",
        "      A = np.stack(A)\n",
        "      self.A = A\n",
        "    elif strategy == 'agcn':\n",
        "      \"\"\"\n",
        "        this time makes a matrix of the nodes, and analyzes these nodes connections\n",
        "      \"\"\"\n",
        "      A = []\n",
        "      link_mat = self.edge2mat(self.self_link, self.num_node) #matrix of connections\n",
        "      In = self.normalize_digraph(self.edge2mat(self.neighbor_link, self.num_node)) #normalization of graph\n",
        "      outward = [(j, i) for (i, j) in self.neighbor_link] #connection of each node\n",
        "      Out = self.normalize_digraph(self.edge2mat(outward, self.num_node)) #normalization\n",
        "      A = np.stack((link_mat, In, Out)) # concat of all info for future use like , connections (link_mat),graph(IN), OUT (connection of each edge)\n",
        "      self.A = A\n",
        "    else:\n",
        "        raise ValueError('Do Not Exist This Strategy')\n",
        "\n",
        "  def get_hop_distance(self, num_node, edge, hop_size): # traverse distance\n",
        "    A = np.zeros((num_node, num_node))\n",
        "    for i, j in edge:\n",
        "        A[j, i] = 1\n",
        "        A[i, j] = 1\n",
        "    hop_dis = np.zeros((num_node, num_node)) + np.inf\n",
        "    transfer_mat = [np.linalg.matrix_power(A, d) for d in range(hop_size + 1)]\n",
        "    arrive_mat = (np.stack(transfer_mat) > 0)\n",
        "    for d in range(hop_size, -1, -1):\n",
        "        hop_dis[arrive_mat[d]] = d\n",
        "    return hop_dis\n",
        "\n",
        "  def normalize_digraph(self, A): # normalization\n",
        "    Dl = np.sum(A, 0)\n",
        "    num_node = A.shape[0]\n",
        "    Dn = np.zeros((num_node, num_node))\n",
        "    for i in range(num_node):\n",
        "        if Dl[i] > 0:\n",
        "            Dn[i, i] = Dl[i]**(-1)\n",
        "    DAD = np.dot(A, Dn)\n",
        "    return DAD\n",
        "\n",
        "  def edge2mat(self, link, num_node): # matrix of edges\n",
        "    A = np.zeros((num_node, num_node))\n",
        "    for i, j in link:\n",
        "        A[j, i] = 1\n",
        "    return A"
      ]
    },
    {
      "cell_type": "markdown",
      "source": [
        "### Attention Module class"
      ],
      "metadata": {
        "id": "1mgKTu4wzOKU"
      }
    },
    {
      "cell_type": "code",
      "source": [
        "class ChannelAttention(nn.Module):\n",
        "    def __init__(self, in_channels, reduction=16):\n",
        "        super(ChannelAttention, self).__init__()\n",
        "        self.avg_pool = nn.AdaptiveAvgPool2d(1) # adaptiveavgpool2d reduces tensor dimensions to (b, c, 1, 1)\n",
        "\n",
        "\n",
        "        self.fc = nn.Sequential(# fully connected layers to learn channel-wise attention weights\n",
        "\n",
        "            nn.Linear(in_channels, in_channels // reduction),# first linear layer reduces input channels to in_channels // reduction\n",
        "            nn.ReLU(),# second linear layer maps back to the original number of channels\n",
        "            nn.Linear(in_channels // reduction, in_channels),\n",
        "            nn.Sigmoid()  # activation function to generate attention weights\n",
        "        )\n",
        "\n",
        "    def forward(self, x):\n",
        "        b, c, _, _ = x.size()# retrieve batch size (b), number of channels (c), height, and width from input tensor\n",
        "        y = self.avg_pool(x).view(b, c)#apply adaptive average pooling to reduce spatial dimensions to 1x1\n",
        "          #apply fully connected layers to generate channel-wise attention weights\n",
        "        y = self.fc(y).view(b, c, 1, 1)  # reshape to (b, c, 1, 1) to match the input tensor shape\n",
        "\n",
        "        # scale the input feature map 'x' by the computed attention weights\n",
        "        return x * y\n"
      ],
      "metadata": {
        "id": "BM7busvzzS7z"
      },
      "execution_count": null,
      "outputs": []
    },
    {
      "cell_type": "markdown",
      "source": [
        "### AGCN Backbone"
      ],
      "metadata": {
        "id": "pIUDd5P007ia"
      }
    },
    {
      "cell_type": "code",
      "source": [
        "import math\n",
        "import torch.nn as nn\n",
        "import torch.nn.init as init\n",
        "\n",
        "def kaiming_init(module: nn.Module, #This function performs weight initialization using the Kaiming initialization method. https://towardsdatascience.com/understand-kaiming-initialization-and-implementation-detail-in-pytorch-f7aa967e9138?gi=74574e4cbbbf\n",
        "                 a: float = 0,\n",
        "                 mode: str = 'fan_out',\n",
        "                 nonlinearity: str = 'relu',\n",
        "                 bias: float = 0,\n",
        "                 distribution: str = 'normal') -> None:\n",
        "    # initialization method for weights using Kaiming initialization\n",
        "    assert distribution in ['uniform', 'normal']\n",
        "    if hasattr(module, 'weight') and module.weight is not None:\n",
        "        if distribution == 'uniform':\n",
        "            # kaiming initialization for weights with a uniform distribution\n",
        "            init.kaiming_uniform_(\n",
        "                module.weight, a=a, mode=mode, nonlinearity=nonlinearity)\n",
        "        else:\n",
        "            # kaiming initialization for weights with a normal distribution\n",
        "            init.kaiming_normal_(\n",
        "                module.weight, a=a, mode=mode, nonlinearity=nonlinearity)\n",
        "    if hasattr(module, 'bias') and module.bias is not None:\n",
        "        # constant initialization for bias\n",
        "        init.constant_(module.bias, bias)\n",
        "\n",
        "\n",
        "def constant_init(module: nn.Module, val: float, bias: float = 0) -> None:\n",
        "    # initialization for weights with a constant value\n",
        "    if hasattr(module, 'weight') and module.weight is not None:\n",
        "        init.constant_(module.weight, val)\n",
        "    if hasattr(module, 'bias') and module.bias is not None:\n",
        "        # constant initialization for bias\n",
        "        init.constant_(module.bias, bias)\n",
        "\n",
        "\n",
        "def normal_init(module: nn.Module,\n",
        "                mean: float = 0,\n",
        "                std: float = 1,\n",
        "                bias: float = 0) -> None:\n",
        "    # initialization for weights with a normal distribution\n",
        "    if hasattr(module, 'weight') and module.weight is not None:\n",
        "        init.normal_(module.weight, mean, std)\n",
        "    if hasattr(module, 'bias') and module.bias is not None:\n",
        "        # constant initialization for bias\n",
        "        init.constant_(module.bias, bias)\n",
        "\n",
        "\n",
        "def conv_branch_init(conv, branches):\n",
        "    # initialization for convolutional layer weights based on branches\n",
        "    weight = conv.weight\n",
        "    n = weight.size(0)\n",
        "    k1 = weight.size(1)\n",
        "    k2 = weight.size(2)\n",
        "    # normal initialization for weights with calculated parameters\n",
        "    normal_init(weight, mean=0, std=math.sqrt(2. / (n * k1 * k2 * branches)))\n",
        "    # constant initialization for bias\n",
        "    constant_init(conv.bias, 0)\n",
        "\n",
        "\n",
        "def conv_init(conv):\n",
        "    # kaiming initialization for convolutional layer weights\n",
        "    kaiming_init(conv.weight)\n",
        "    # constant initialization for bias\n",
        "    constant_init(conv.bias, 0)\n",
        "\n",
        "\n",
        "def bn_init(bn, scale):\n",
        "    # constant initialization for BatchNorm layer weights and bias\n",
        "    constant_init(bn.weight, scale)\n",
        "    constant_init(bn.bias, 0)\n",
        "\n",
        "\n",
        "def zero(x):\n",
        "    # Return zero\n",
        "    return 0\n",
        "\n",
        "\n",
        "def identity(x):\n",
        "    # Return the input itself\n",
        "    return x\n"
      ],
      "metadata": {
        "id": "Ml0cq05z2rZP"
      },
      "execution_count": null,
      "outputs": []
    },
    {
      "cell_type": "code",
      "source": [
        "import torch\n",
        "import torch.nn as nn\n",
        "\n",
        "class ConvTemporalGraphical(nn.Module):\n",
        "    def __init__(self,\n",
        "                 in_channels,\n",
        "                 out_channels,\n",
        "                 kernel_size,\n",
        "                 t_kernel_size=1,\n",
        "                 t_stride=1,\n",
        "                 t_padding=0,\n",
        "                 t_dilation=1,\n",
        "                 adj_len=25,\n",
        "                 bias=True):\n",
        "        super().__init__()\n",
        "\n",
        "        self.kernel_size = kernel_size\n",
        "        #initialize a learnable parameter for adjacency matrix\n",
        "        self.PA = nn.Parameter(torch.FloatTensor(5, adj_len, adj_len))\n",
        "        torch.nn.init.constant_(self.PA, 1e-6)  # initialize the parameter to a constant value\n",
        "\n",
        "        self.num_subset = 3  # define the number of subsets\n",
        "        inter_channels = out_channels // 4  # calculate intermediate channels based on output channels\n",
        "        self.inter_c = inter_channels\n",
        "        self.conv_a = nn.ModuleList()  # initialize convolutional layers in ModuleList\n",
        "        self.conv_b = nn.ModuleList()\n",
        "        self.conv_d = nn.ModuleList()\n",
        "        for i in range(self.num_subset):\n",
        "            # append convolutional layers to lists\n",
        "            self.conv_a.append(nn.Conv2d(in_channels, inter_channels, 1))\n",
        "            self.conv_b.append(nn.Conv2d(in_channels, inter_channels, 1))\n",
        "            self.conv_d.append(nn.Conv2d(in_channels, out_channels, 1))\n",
        "\n",
        "        # downsample layer if input channels are not equal to output channels\n",
        "        if in_channels != out_channels:\n",
        "            self.down = nn.Sequential(\n",
        "                nn.Conv2d(in_channels, out_channels, 1),\n",
        "                nn.BatchNorm2d(out_channels))\n",
        "        else:\n",
        "            self.down = lambda x: x  # identity function if channels are the same\n",
        "\n",
        "        # batch normalization layer, softmax, and ReLU activation\n",
        "        self.bn = nn.BatchNorm2d(out_channels)\n",
        "        self.soft = nn.Softmax(-2)\n",
        "        self.relu = nn.ReLU()\n",
        "\n",
        "        # initialize weights and biases for convolutional and batch norm layers\n",
        "        for m in self.modules():\n",
        "            if isinstance(m, nn.Conv2d):\n",
        "                conv_init(m)\n",
        "            elif isinstance(m, nn.BatchNorm2d):\n",
        "                bn_init(m, 1)\n",
        "        bn_init(self.bn, 1e-6)\n",
        "        for i in range(self.num_subset):\n",
        "            conv_branch_init(self.conv_d[i], self.num_subset)\n",
        "\n",
        "    def forward(self, x, adj_mat):\n",
        "        \"\"\"Defines the computation performed at every call.\"\"\"\n",
        "        assert adj_mat.size(0) == self.kernel_size  # ensure adjacency matrix size matches kernel size\n",
        "\n",
        "        N, C, T, V = x.size()  # get the dimensions of the input tensor x\n",
        "        A = adj_mat + self.PA  # add the learnable parameter to the adjacency matrix\n",
        "\n",
        "        y = None\n",
        "        for i in range(self.num_subset):\n",
        "            A1 = self.conv_a[i](x).permute(0, 3, 1, 2).contiguous().view(\n",
        "                N, V, self.inter_c * T)  # apply convolution and reshape\n",
        "            A2 = self.conv_b[i](x).view(N, self.inter_c * T, V)  # apply convolution and reshape\n",
        "            A1 = self.soft(torch.matmul(A1, A2) / A1.size(-1))  # apply softmax on the matrix\n",
        "            A1 = A1 + A[i]  # add matrix A[i] to A1\n",
        "            A2 = x.view(N, C * T, V)  # Reshape input x\n",
        "            z = self.conv_d[i](torch.matmul(A2, A1).view(N, C, T, V))  # matrix multiplication and convolution\n",
        "            y = z + y if y is not None else z  # accumulate output results\n",
        "        y = self.bn(y)  # apply batch normalization\n",
        "        y += self.down(x)  # add the result of the downsample layer\n",
        "\n",
        "        return self.relu(y), adj_mat  # apply ReLU activation and return result, adj_mat\n"
      ],
      "metadata": {
        "id": "glRUWrqo2Aol"
      },
      "execution_count": null,
      "outputs": []
    },
    {
      "cell_type": "code",
      "source": [
        "class AGCNBlock(nn.Module):\n",
        "    def __init__(self,\n",
        "                 in_channels,\n",
        "                 out_channels,\n",
        "                 kernel_size,\n",
        "                 stride=1,\n",
        "                 adj_len=25,\n",
        "                 dropout=0,\n",
        "                 residual=True):\n",
        "        super().__init__()\n",
        "\n",
        "        assert len(kernel_size) == 2\n",
        "        assert kernel_size[0] % 2 == 1\n",
        "        padding = ((kernel_size[0] - 1) // 2, 0)\n",
        "\n",
        "        #  Graph convolutional layer\n",
        "        self.gcn = ConvTemporalGraphical(\n",
        "            in_channels, out_channels, kernel_size[1], adj_len=adj_len)\n",
        "\n",
        "        # temporal convolutional layer\n",
        "        self.tcn = nn.Sequential(\n",
        "            nn.Conv2d(out_channels, out_channels, (kernel_size[0], 1),\n",
        "                      (stride, 1), padding), nn.BatchNorm2d(out_channels))\n",
        "\n",
        "        # initialize TCN layers\n",
        "        for m in self.tcn.modules():\n",
        "            if isinstance(m, nn.Conv2d):\n",
        "                conv_init(m)\n",
        "            elif isinstance(m, nn.BatchNorm2d):\n",
        "                bn_init(m, 1)\n",
        "\n",
        "        # define residual connection / pass or process ? as we talked in the meeting\n",
        "        if not residual:\n",
        "            self.residual = zero  # Function returning zero\n",
        "        elif (in_channels == out_channels) and (stride == 1):\n",
        "            self.residual = identity  # Function returning input itself\n",
        "        else:\n",
        "            self.residual = nn.Sequential(\n",
        "                nn.Conv2d(\n",
        "                    in_channels,\n",
        "                    out_channels,\n",
        "                    kernel_size=1,\n",
        "                    stride=(stride, 1)), nn.BatchNorm2d(out_channels))\n",
        "\n",
        "        self.relu = nn.ReLU(inplace=True)\n",
        "\n",
        "        # attention mechanisms (PAM, CAM)\n",
        "        self.att_type = []  # list of attention types\n",
        "        self.attention = len(self.att_type)\n",
        "        if self.attention > 0:\n",
        "            self.channel_attention = ChannelAttention(out_channels)  # channelAttention module\n",
        "\n",
        "    def forward(self, x, adj_mat):\n",
        "        \"\"\"Defines the computation performed at every call.\"\"\"\n",
        "        res = self.residual(x)  # calculate residual connection\n",
        "        x, adj_mat = self.gcn(x, adj_mat)  # graph convolutional layer\n",
        "\n",
        "        # apply attention mechanisms\n",
        "        if self.attention == 1 and self.att_type[0] == 'pam':\n",
        "            x = self.channel_attention(x)\n",
        "            x = self.tcn(x)\n",
        "            x = x + res\n",
        "        elif self.attention == 1 and self.att_type[0] == 'cam':\n",
        "            x = self.tcn(x)\n",
        "            x = self.channel_attention(x)\n",
        "            x = x + res\n",
        "        else:\n",
        "            x = self.tcn(x) + res\n",
        "\n",
        "        if self.attention == 2:\n",
        "            x = self.channel_attention(x)  # apply channel attention\n",
        "\n",
        "        return self.relu(x), adj_mat  # apply ReLU activation and return result, adj_mat\n"
      ],
      "metadata": {
        "id": "BQ-G5eZG1AsB"
      },
      "execution_count": null,
      "outputs": []
    },
    {
      "cell_type": "markdown",
      "source": [
        "#what are backbone and head in mmaction models ?\n",
        "model = dict(\n",
        "    type='',\n",
        "    backbone=dict(\n",
        "        ),\n",
        "    cls_head=dict(\n",
        "       ),\n",
        "    train_cfg=None,\n",
        "    test_cfg=None)\n",
        "## type:\n",
        "The type parameter defines the type or the class name of the model. It specifies the category or kind of model architecture being used for action recognition. it defines specific architecture type designed for action recognition. The value assigned to type will refer to a specific class or model type within the MMAction framework.\n",
        "##backbone:\n",
        "The backbone parameter defines the architecture or structure of the backbone network used in the model. The backbone network is responsible for feature extraction from input frames or clips. This section typically includes settings such as layer types, number of layers, layer configurations, etc. It refers to the deep models or any other base network architecture used as a feature extractor.\n",
        "##head\n",
        "The cls_head parameter defines the architecture of the classification head. It usually includes fully connected layers or other structures responsible for mapping the extracted features from the backbone into class probabilities or scores. This part is specifically designed for action recognition tasks and is responsible for the final classification or prediction based on the features extracted by the backbone."
      ],
      "metadata": {
        "id": "_P-4Uz0Yi4_U"
      }
    },
    {
      "cell_type": "code",
      "source": [
        "class AGCN(nn.Module):\n",
        "    def __init__(self, in_channels, hop_size, strategy, pretrained=None, **kwargs):\n",
        "        super().__init__()\n",
        "\n",
        "        # graph/ the gigantic model before this architecture\n",
        "        self.graph = Graph(hop_size, strategy)\n",
        "        A = torch.tensor(self.graph.A, dtype=torch.float32, requires_grad=False)\n",
        "        self.register_buffer('A', A)\n",
        "        A_size = A.size()\n",
        "\n",
        "        # batch normalization\n",
        "        self.bn = nn.BatchNorm1d(in_channels * A_size[1])\n",
        "\n",
        "        # AGCN Blocks\n",
        "        spatial_kernel_size = A.size(0)\n",
        "        temporal_kernel_size = 9\n",
        "        kernel_size = (temporal_kernel_size, spatial_kernel_size)\n",
        "\n",
        "        # initializing AGCN network with several AGCNBlocks\n",
        "        kwargs0 = {k: v for k, v in kwargs.items() if k != 'dropout'}\n",
        "        self.agcn_networks = nn.ModuleList([\n",
        "            AGCNBlock(in_channels, 64, kernel_size, 1, adj_len=A.size(1), residual=False, **kwargs0),\n",
        "            AGCNBlock(64, 64, kernel_size, 1, adj_len=A.size(1), **kwargs),\n",
        "            AGCNBlock(64, 64, kernel_size, 1, adj_len=A.size(1), **kwargs),\n",
        "            AGCNBlock(64, 64, kernel_size, 1, adj_len=A.size(1), **kwargs),\n",
        "            AGCNBlock(64, 128, kernel_size, 2, adj_len=A.size(1), **kwargs),\n",
        "            AGCNBlock(128, 128, kernel_size, 1, adj_len=A.size(1), **kwargs),\n",
        "            AGCNBlock(128, 128, kernel_size, 1, adj_len=A.size(1), **kwargs),\n",
        "            AGCNBlock(128, 256, kernel_size, 2, adj_len=A.size(1), **kwargs),\n",
        "            AGCNBlock(256, 256, kernel_size, 1, adj_len=A.size(1), **kwargs),\n",
        "            AGCNBlock(256, 256, kernel_size, 1, adj_len=A.size(1), **kwargs),\n",
        "        ])\n",
        "\n",
        "    def forward(self, x):\n",
        "        N, C, T, V = x.size()  # batch, channel, frame, node\n",
        "\n",
        "        # data normalization\n",
        "        x = x.permute(0, 3, 1, 2).contiguous().view(N, V * C, T)\n",
        "        x = self.bn(x)\n",
        "        x = x.view(N, V, C, T).permute(0, 2, 3, 1).contiguous()\n",
        "\n",
        "        # looping through AGCN blocks\n",
        "        for gcn in self.agcn_networks:\n",
        "            x, _ = gcn(x, self.A)\n",
        "\n",
        "        return x\n"
      ],
      "metadata": {
        "id": "X_7A6mvy3xz_"
      },
      "execution_count": null,
      "outputs": []
    },
    {
      "cell_type": "markdown",
      "source": [
        "### STGCN head"
      ],
      "metadata": {
        "id": "DuQ8KaTd7nMR"
      }
    },
    {
      "cell_type": "code",
      "source": [
        "class STGCNHead(nn.Module):\n",
        "    def __init__(self,\n",
        "                 num_classes,\n",
        "                 in_channels,\n",
        "                 loss_cls=dict(type='CrossEntropyLoss'),\n",
        "                 spatial_type='avg',\n",
        "                 num_person=1,\n",
        "                 init_std=0.01,\n",
        "                 **kwargs):\n",
        "        super().__init__()\n",
        "\n",
        "        self.spatial_type = spatial_type\n",
        "        self.in_channels = in_channels\n",
        "        self.num_classes = num_classes\n",
        "        self.num_person = num_person\n",
        "        self.init_std = init_std\n",
        "\n",
        "        # pooling layer selection based on spatial type\n",
        "        self.pool = None\n",
        "        if self.spatial_type == 'avg':\n",
        "            self.pool = nn.AdaptiveAvgPool2d((1, 1))\n",
        "        elif self.spatial_type == 'max':\n",
        "            self.pool = nn.AdaptiveMaxPool2d((1, 1))\n",
        "        else:\n",
        "            raise NotImplementedError\n",
        "\n",
        "        # fully connected layer for classification\n",
        "        self.fc = nn.Conv2d(self.in_channels, self.num_classes, kernel_size=1)\n",
        "\n",
        "    def init_weights(self):\n",
        "        # weight initialization for the fully connected layer\n",
        "        normal_init(self.fc, std=self.init_std)\n",
        "\n",
        "    def forward(self, x):\n",
        "        # global pooling\n",
        "        assert self.pool is not None\n",
        "        x = self.pool(x)\n",
        "        x = x.view(x.shape[0] // self.num_person, self.num_person, -1, 1, 1).mean(dim=1)\n",
        "\n",
        "        # prediction\n",
        "        x = self.fc(x)\n",
        "        x = x.view(x.shape[0], -1)\n",
        "\n",
        "        return x\n"
      ],
      "metadata": {
        "id": "ZQqsN6em7uvR"
      },
      "execution_count": null,
      "outputs": []
    },
    {
      "cell_type": "markdown",
      "source": [
        "### Model Definition"
      ],
      "metadata": {
        "id": "GdchloFu-wwo"
      }
    },
    {
      "cell_type": "markdown",
      "source": [
        "#### STGCN"
      ],
      "metadata": {
        "id": "a29cHE29-2Nf"
      }
    },
    {
      "cell_type": "code",
      "source": [
        "\n",
        "class STGCN(nn.Module):\n",
        "  def __init__(self,\n",
        "               num_classes,\n",
        "               in_channels,\n",
        "               t_kernel_size,\n",
        "               hop_size,\n",
        "               strategy='spatial'):\n",
        "    super().__init__()\n",
        "\n",
        "    self.agcn = AGCN(in_channels, hop_size, strategy)\n",
        "    self.stgcnhead = STGCNHead(num_classes, in_channels=256)\n",
        "\n",
        "  def forward(self, x):\n",
        "    x = self.agcn(x)\n",
        "    x = self.stgcnhead(x)\n",
        "\n",
        "    return x\n"
      ],
      "metadata": {
        "id": "tZceALlx-95n"
      },
      "execution_count": null,
      "outputs": []
    },
    {
      "cell_type": "markdown",
      "source": [
        "### Training Loop"
      ],
      "metadata": {
        "id": "3Q3cw9wf0rEn"
      }
    },
    {
      "cell_type": "code",
      "source": [
        "import os\n",
        "#---------------------------------------------------------------------------parameters and model\n",
        "os.environ['CUDA_LAUNCH_BLOCKING'] = '1'\n",
        "\n",
        "NUM_EPOCH = 80\n",
        "BATCH_SIZE = 32\n",
        "CUDA_LAUNCH_BLOCKING=1\n",
        "if(torch.cuda.is_available()):\n",
        "  model = STGCN(num_classes=99,\n",
        "                    in_channels=3,\n",
        "                    t_kernel_size=9,\n",
        "                    hop_size=2).cuda()\n",
        "else:\n",
        "  model = STGCN(num_classes=99,\n",
        "                    in_channels=3,\n",
        "                    t_kernel_size=9,\n",
        "                    hop_size=2)\n",
        "\n",
        "\n",
        "#---------------------------------------------------------------------------optimizer and loss function\n",
        "optimizer = torch.optim.SGD(model.parameters(), lr=0.1, momentum=0.9, weight_decay=0.0001, nesterov=True)\n",
        "criterion = torch.nn.CrossEntropyLoss()\n",
        "\n",
        "#---------------------------------------------------------------------------here we are defining data and using collator so the model would work error free when facing variant dadta\n",
        "data_loader = dict()\n",
        "collator = MyCollator()\n",
        "data_loader['train'] = torch.utils.data.DataLoader(dataset=Feeder(data=train_data, label=train_label), batch_size=BATCH_SIZE, shuffle=True,collate_fn=collator)\n",
        "data_loader['valid'] = torch.utils.data.DataLoader(dataset=Feeder(data=val_data, label=val_label), batch_size=BATCH_SIZE, shuffle=True,collate_fn=collator)\n",
        "data_loader['test'] = torch.utils.data.DataLoader(dataset=Feeder(data=test_data, label=test_label), batch_size=BATCH_SIZE, shuffle=False,collate_fn=collator)\n",
        "\n",
        "#---------------------------------------------------------------------------training\n",
        "model.train()\n",
        "\n",
        "for epoch in range(1, NUM_EPOCH+1):\n",
        "  correct_train = 0\n",
        "  sum_loss = 0\n",
        "  model.train()\n",
        "  for batch_idx, (data, label) in enumerate(data_loader['train']):\n",
        "    # print(data)\n",
        "    if(torch.cuda.is_available()):\n",
        "      data = data.cuda()\n",
        "      label = torch.LongTensor(label).cuda()\n",
        "    else:\n",
        "      data = data\n",
        "      label = torch.LongTensor(label)\n",
        "\n",
        "#---------------------------------------------------------------------------inference\n",
        "    output = model(data)\n",
        "    # print(len(output),len(label))\n",
        "#---------------------------------------------------------------------------optimization and learning\n",
        "    loss = criterion(output, label)\n",
        "    optimizer.zero_grad()\n",
        "    loss.backward()\n",
        "    optimizer.step()\n",
        "#---------------------------------------------------------------------------training metrics\n",
        "    sum_loss += loss.item()\n",
        "    _, predict = torch.max(output.data, 1)\n",
        "    correct_train += (predict == label).sum().item()\n",
        "#---------------------------------------------------------------------------evaluation\n",
        "  model.eval()\n",
        "  val_loss = 0.0\n",
        "  correct = 0\n",
        "  total = 0\n",
        "  with torch.no_grad():\n",
        "      for data, label in data_loader['valid']:\n",
        "          if(torch.cuda.is_available()):\n",
        "            data = data.cuda()\n",
        "            label = torch.LongTensor(label).cuda()\n",
        "          else:\n",
        "            data = data\n",
        "            label = torch.LongTensor(label)\n",
        "#---------------------------------------------------------------------------inference\n",
        "          outputs = model(data)\n",
        "#---------------------------------------------------------------------------evaluation metrics\n",
        "          val_loss =criterion(outputs, label)\n",
        "\n",
        "          sum_loss += val_loss.item()\n",
        "          _, predict = torch.max(outputs.data, 1)\n",
        "          correct += (predict == label).sum().item()\n",
        "\n",
        "\n",
        "\n",
        "  print('# Epoch: {} | Train Loss: {:.4f} | Train Accuracy: {:.4f} | Val loss: {:.4f} | Val Accuracy: {:.4f}'.format(epoch, sum_loss/len(data_loader['train'].dataset),(100. * correct_train / len(data_loader['train'].dataset)),val_loss/len(data_loader['valid'].dataset), (100. * correct / len(data_loader['valid'].dataset))))"
      ],
      "metadata": {
        "id": "WeJl8qaXZH6U",
        "colab": {
          "base_uri": "https://localhost:8080/"
        },
        "outputId": "e4cb70a1-c949-47cd-c183-a0cc003b9aa7"
      },
      "execution_count": null,
      "outputs": [
        {
          "output_type": "stream",
          "name": "stdout",
          "text": [
            "# Epoch: 1 | Train Loss: 0.1441 | Train Accuracy: 5.1279 | Val loss: 0.0032 | Val Accuracy: 7.3402\n",
            "# Epoch: 2 | Train Loss: 0.1214 | Train Accuracy: 12.9832 | Val loss: 0.0028 | Val Accuracy: 9.3923\n",
            "# Epoch: 3 | Train Loss: 0.1102 | Train Accuracy: 17.1982 | Val loss: 0.0026 | Val Accuracy: 17.2849\n",
            "# Epoch: 4 | Train Loss: 0.1041 | Train Accuracy: 20.2637 | Val loss: 0.0020 | Val Accuracy: 16.2589\n",
            "# Epoch: 5 | Train Loss: 0.0979 | Train Accuracy: 23.5433 | Val loss: 0.0025 | Val Accuracy: 19.8895\n",
            "# Epoch: 6 | Train Loss: 0.0940 | Train Accuracy: 27.7358 | Val loss: 0.0022 | Val Accuracy: 19.5738\n",
            "# Epoch: 7 | Train Loss: 0.0886 | Train Accuracy: 31.7931 | Val loss: 0.0018 | Val Accuracy: 25.8090\n",
            "# Epoch: 8 | Train Loss: 0.0811 | Train Accuracy: 37.5859 | Val loss: 0.0023 | Val Accuracy: 28.8082\n",
            "# Epoch: 9 | Train Loss: 0.0747 | Train Accuracy: 43.4577 | Val loss: 0.0019 | Val Accuracy: 25.4144\n",
            "# Epoch: 10 | Train Loss: 0.0657 | Train Accuracy: 49.3407 | Val loss: 0.0020 | Val Accuracy: 34.4909\n",
            "# Epoch: 11 | Train Loss: 0.0592 | Train Accuracy: 54.7391 | Val loss: 0.0015 | Val Accuracy: 39.7001\n",
            "# Epoch: 12 | Train Loss: 0.0461 | Train Accuracy: 61.9971 | Val loss: 0.0009 | Val Accuracy: 59.5896\n",
            "# Epoch: 13 | Train Loss: 0.0462 | Train Accuracy: 65.0851 | Val loss: 0.0011 | Val Accuracy: 46.6456\n",
            "# Epoch: 14 | Train Loss: 0.0405 | Train Accuracy: 69.6946 | Val loss: 0.0012 | Val Accuracy: 45.7774\n",
            "# Epoch: 15 | Train Loss: 0.0317 | Train Accuracy: 72.6586 | Val loss: 0.0010 | Val Accuracy: 72.9282\n",
            "# Epoch: 16 | Train Loss: 0.0277 | Train Accuracy: 76.3665 | Val loss: 0.0010 | Val Accuracy: 74.9013\n",
            "# Epoch: 17 | Train Loss: 0.0253 | Train Accuracy: 78.7558 | Val loss: 0.0006 | Val Accuracy: 73.2439\n",
            "# Epoch: 18 | Train Loss: 0.0236 | Train Accuracy: 80.7393 | Val loss: 0.0006 | Val Accuracy: 73.2439\n",
            "# Epoch: 19 | Train Loss: 0.0214 | Train Accuracy: 81.1450 | Val loss: 0.0002 | Val Accuracy: 83.0308\n",
            "# Epoch: 20 | Train Loss: 0.0193 | Train Accuracy: 83.4442 | Val loss: 0.0005 | Val Accuracy: 79.0055\n",
            "# Epoch: 21 | Train Loss: 0.0203 | Train Accuracy: 84.9093 | Val loss: 0.0006 | Val Accuracy: 67.6401\n",
            "# Epoch: 22 | Train Loss: 0.0273 | Train Accuracy: 86.7125 | Val loss: 0.0021 | Val Accuracy: 39.8579\n",
            "# Epoch: 23 | Train Loss: 0.0168 | Train Accuracy: 85.5179 | Val loss: 0.0006 | Val Accuracy: 80.1105\n",
            "# Epoch: 24 | Train Loss: 0.0184 | Train Accuracy: 87.8395 | Val loss: 0.0010 | Val Accuracy: 62.5888\n",
            "# Epoch: 25 | Train Loss: 0.0133 | Train Accuracy: 89.4962 | Val loss: 0.0004 | Val Accuracy: 83.8990\n",
            "# Epoch: 26 | Train Loss: 0.0128 | Train Accuracy: 88.9327 | Val loss: 0.0002 | Val Accuracy: 89.0292\n",
            "# Epoch: 27 | Train Loss: 0.0090 | Train Accuracy: 92.3138 | Val loss: 0.0001 | Val Accuracy: 89.2660\n",
            "# Epoch: 28 | Train Loss: 0.0107 | Train Accuracy: 90.7585 | Val loss: 0.0002 | Val Accuracy: 89.4238\n",
            "# Epoch: 29 | Train Loss: 0.0101 | Train Accuracy: 91.2769 | Val loss: 0.0002 | Val Accuracy: 89.9763\n",
            "# Epoch: 30 | Train Loss: 0.0115 | Train Accuracy: 92.5166 | Val loss: 0.0002 | Val Accuracy: 76.0063\n",
            "# Epoch: 31 | Train Loss: 0.0100 | Train Accuracy: 91.2431 | Val loss: 0.0001 | Val Accuracy: 91.8706\n",
            "# Epoch: 32 | Train Loss: 0.0078 | Train Accuracy: 93.3393 | Val loss: 0.0003 | Val Accuracy: 92.1863\n",
            "# Epoch: 33 | Train Loss: 0.0079 | Train Accuracy: 93.5873 | Val loss: 0.0002 | Val Accuracy: 88.8713\n",
            "# Epoch: 34 | Train Loss: 0.0072 | Train Accuracy: 93.7338 | Val loss: 0.0002 | Val Accuracy: 93.0545\n",
            "# Epoch: 35 | Train Loss: 0.0082 | Train Accuracy: 93.6549 | Val loss: 0.0004 | Val Accuracy: 89.3449\n",
            "# Epoch: 36 | Train Loss: 0.0066 | Train Accuracy: 94.4664 | Val loss: 0.0003 | Val Accuracy: 90.9234\n",
            "# Epoch: 37 | Train Loss: 0.0069 | Train Accuracy: 94.8721 | Val loss: 0.0002 | Val Accuracy: 88.3189\n",
            "# Epoch: 38 | Train Loss: 0.0088 | Train Accuracy: 93.4971 | Val loss: 0.0009 | Val Accuracy: 85.0829\n",
            "# Epoch: 39 | Train Loss: 0.0071 | Train Accuracy: 94.1508 | Val loss: 0.0001 | Val Accuracy: 93.1334\n",
            "# Epoch: 40 | Train Loss: 0.0070 | Train Accuracy: 93.9592 | Val loss: 0.0002 | Val Accuracy: 93.6069\n",
            "# Epoch: 41 | Train Loss: 0.0060 | Train Accuracy: 94.7368 | Val loss: 0.0001 | Val Accuracy: 94.3962\n",
            "# Epoch: 42 | Train Loss: 0.0078 | Train Accuracy: 94.8834 | Val loss: 0.0006 | Val Accuracy: 84.8461\n",
            "# Epoch: 43 | Train Loss: 0.0060 | Train Accuracy: 95.0411 | Val loss: 0.0005 | Val Accuracy: 91.9495\n",
            "# Epoch: 44 | Train Loss: 0.0062 | Train Accuracy: 94.5791 | Val loss: 0.0004 | Val Accuracy: 93.0545\n",
            "# Epoch: 45 | Train Loss: 0.0088 | Train Accuracy: 95.0975 | Val loss: 0.0010 | Val Accuracy: 81.7680\n",
            "# Epoch: 46 | Train Loss: 0.0068 | Train Accuracy: 94.7030 | Val loss: 0.0001 | Val Accuracy: 90.8445\n",
            "# Epoch: 47 | Train Loss: 0.0056 | Train Accuracy: 95.4131 | Val loss: 0.0000 | Val Accuracy: 93.2123\n",
            "# Epoch: 48 | Train Loss: 0.0055 | Train Accuracy: 95.6723 | Val loss: 0.0000 | Val Accuracy: 92.9755\n",
            "# Epoch: 49 | Train Loss: 0.0044 | Train Accuracy: 96.4724 | Val loss: 0.0000 | Val Accuracy: 93.4491\n",
            "# Epoch: 50 | Train Loss: 0.0054 | Train Accuracy: 95.5934 | Val loss: 0.0001 | Val Accuracy: 92.4230\n",
            "# Epoch: 51 | Train Loss: 0.0064 | Train Accuracy: 96.2583 | Val loss: 0.0001 | Val Accuracy: 83.4254\n",
            "# Epoch: 52 | Train Loss: 0.0064 | Train Accuracy: 95.4131 | Val loss: 0.0003 | Val Accuracy: 90.8445\n",
            "# Epoch: 53 | Train Loss: 0.0036 | Train Accuracy: 97.1599 | Val loss: 0.0000 | Val Accuracy: 95.5012\n",
            "# Epoch: 54 | Train Loss: 0.0035 | Train Accuracy: 97.4755 | Val loss: 0.0003 | Val Accuracy: 95.4223\n",
            "# Epoch: 55 | Train Loss: 0.0036 | Train Accuracy: 97.1599 | Val loss: 0.0000 | Val Accuracy: 96.1326\n",
            "# Epoch: 56 | Train Loss: 0.0038 | Train Accuracy: 96.8782 | Val loss: 0.0002 | Val Accuracy: 94.6330\n",
            "# Epoch: 57 | Train Loss: 0.0051 | Train Accuracy: 96.0216 | Val loss: 0.0003 | Val Accuracy: 94.6330\n",
            "# Epoch: 58 | Train Loss: 0.0053 | Train Accuracy: 97.1825 | Val loss: 0.0008 | Val Accuracy: 88.7924\n",
            "# Epoch: 59 | Train Loss: 0.0041 | Train Accuracy: 96.9571 | Val loss: 0.0000 | Val Accuracy: 94.4751\n",
            "# Epoch: 60 | Train Loss: 0.0043 | Train Accuracy: 96.7767 | Val loss: 0.0001 | Val Accuracy: 94.7119\n",
            "# Epoch: 61 | Train Loss: 0.0034 | Train Accuracy: 97.2614 | Val loss: 0.0003 | Val Accuracy: 96.3694\n",
            "# Epoch: 62 | Train Loss: 0.0032 | Train Accuracy: 97.7798 | Val loss: 0.0004 | Val Accuracy: 95.4223\n",
            "# Epoch: 63 | Train Loss: 0.0043 | Train Accuracy: 96.9345 | Val loss: 0.0002 | Val Accuracy: 93.7648\n",
            "# Epoch: 64 | Train Loss: 0.0046 | Train Accuracy: 96.7091 | Val loss: 0.0005 | Val Accuracy: 92.6598\n",
            "# Epoch: 65 | Train Loss: 0.0035 | Train Accuracy: 97.2726 | Val loss: 0.0000 | Val Accuracy: 96.2904\n",
            "# Epoch: 66 | Train Loss: 0.0031 | Train Accuracy: 97.6558 | Val loss: 0.0001 | Val Accuracy: 96.1326\n",
            "# Epoch: 67 | Train Loss: 0.0025 | Train Accuracy: 98.4334 | Val loss: 0.0002 | Val Accuracy: 95.2644\n",
            "# Epoch: 68 | Train Loss: 0.0026 | Train Accuracy: 98.1292 | Val loss: 0.0000 | Val Accuracy: 97.1586\n",
            "# Epoch: 69 | Train Loss: 0.0052 | Train Accuracy: 96.9909 | Val loss: 0.0001 | Val Accuracy: 88.0821\n",
            "# Epoch: 70 | Train Loss: 0.0045 | Train Accuracy: 96.8894 | Val loss: 0.0000 | Val Accuracy: 94.8698\n",
            "# Epoch: 71 | Train Loss: 0.0053 | Train Accuracy: 96.0554 | Val loss: 0.0000 | Val Accuracy: 93.4491\n",
            "# Epoch: 72 | Train Loss: 0.0038 | Train Accuracy: 97.3741 | Val loss: 0.0003 | Val Accuracy: 94.1594\n",
            "# Epoch: 73 | Train Loss: 0.0024 | Train Accuracy: 98.6250 | Val loss: 0.0000 | Val Accuracy: 95.5012\n",
            "# Epoch: 74 | Train Loss: 0.0023 | Train Accuracy: 98.1968 | Val loss: 0.0000 | Val Accuracy: 97.5533\n",
            "# Epoch: 75 | Train Loss: 0.0015 | Train Accuracy: 99.1773 | Val loss: 0.0002 | Val Accuracy: 96.6062\n",
            "# Epoch: 76 | Train Loss: 0.0027 | Train Accuracy: 98.2531 | Val loss: 0.0005 | Val Accuracy: 96.3694\n",
            "# Epoch: 77 | Train Loss: 0.0036 | Train Accuracy: 97.6333 | Val loss: 0.0003 | Val Accuracy: 93.9227\n",
            "# Epoch: 78 | Train Loss: 0.0049 | Train Accuracy: 96.0216 | Val loss: 0.0003 | Val Accuracy: 95.2644\n",
            "# Epoch: 79 | Train Loss: 0.0029 | Train Accuracy: 98.2419 | Val loss: 0.0001 | Val Accuracy: 94.4751\n",
            "# Epoch: 80 | Train Loss: 0.0032 | Train Accuracy: 97.7347 | Val loss: 0.0000 | Val Accuracy: 96.0537\n"
          ]
        }
      ]
    },
    {
      "cell_type": "markdown",
      "source": [
        "### Evaluation of Model"
      ],
      "metadata": {
        "id": "UrWow-Hp0yFM"
      }
    },
    {
      "cell_type": "code",
      "source": [
        "import imageio\n",
        "from PIL import Image\n",
        "def prepare_gif_for_model(gif_path,length=300):\n",
        "  gif = imageio.mimread(gif_path)\n",
        "  resized_frames = []\n",
        "  for frame in gif:\n",
        "      image = Image.fromarray(frame)\n",
        "      resized_image = image.resize((25, 25))\n",
        "      resized_frames.append(np.array(resized_image))\n",
        "  frames = np.asarray(resized_frames)\n",
        "  frames = np.transpose(frames, (3, 0, 1, 2))\n",
        "\n",
        "\n",
        "  frames=frames.reshape((3,-1,25)) #check this\n",
        "  if frames.shape[1]>length:\n",
        "      frames= frames[:,:length,:]\n",
        "  data = torch.Tensor(frames)\n",
        "\n",
        "  return np.array(data)"
      ],
      "metadata": {
        "id": "FB1Quw8gMwiH"
      },
      "execution_count": null,
      "outputs": []
    },
    {
      "cell_type": "code",
      "source": [
        "train_data[1].shape"
      ],
      "metadata": {
        "id": "ikMZcnEwM0DY",
        "colab": {
          "base_uri": "https://localhost:8080/"
        },
        "outputId": "49094e87-c84c-408b-f255-2282b4a79e82"
      },
      "execution_count": null,
      "outputs": [
        {
          "output_type": "execute_result",
          "data": {
            "text/plain": [
              "(3, 119, 25)"
            ]
          },
          "metadata": {},
          "execution_count": 21
        }
      ]
    },
    {
      "cell_type": "markdown",
      "source": [
        "#test one file"
      ],
      "metadata": {
        "id": "Im08ErXiM29Z"
      }
    },
    {
      "cell_type": "code",
      "source": [
        "instance=prepare_gif_for_model(\"/content/205_18_0_1_1_stand.txt.gif\")"
      ],
      "metadata": {
        "id": "R3l87jyGM4QI"
      },
      "execution_count": null,
      "outputs": []
    },
    {
      "cell_type": "code",
      "source": [
        "model.eval()\n",
        "with torch.no_grad():\n",
        "    if(torch.cuda.is_available()):\n",
        "        data = torch.tensor([instance]).cuda()\n",
        "    else:\n",
        "        data = torch.tensor([instance])\n",
        "\n",
        "    output = model(data)\n",
        "\n",
        "    _, predict = torch.max(output.data, 1)\n",
        "\n",
        "print(predict)"
      ],
      "metadata": {
        "id": "_x9YjT0YM694",
        "colab": {
          "base_uri": "https://localhost:8080/"
        },
        "outputId": "8a33adab-8c0f-4dd4-e076-e4c00f6b702b"
      },
      "execution_count": null,
      "outputs": [
        {
          "output_type": "stream",
          "name": "stdout",
          "text": [
            "tensor([6], device='cuda:0')\n"
          ]
        },
        {
          "output_type": "stream",
          "name": "stderr",
          "text": [
            "<ipython-input-23-59746615cba0>:4: UserWarning: Creating a tensor from a list of numpy.ndarrays is extremely slow. Please consider converting the list to a single numpy.ndarray with numpy.array() before converting to a tensor. (Triggered internally at ../torch/csrc/utils/tensor_new.cpp:261.)\n",
            "  data = torch.tensor([instance]).cuda()\n"
          ]
        }
      ]
    },
    {
      "cell_type": "markdown",
      "source": [
        "#test pack of files"
      ],
      "metadata": {
        "id": "8F9gpTAQM_yp"
      }
    },
    {
      "cell_type": "code",
      "source": [
        "model.eval()\n",
        "\n",
        "correct = 0\n",
        "confusion_matrix = np.zeros((100, 100))\n",
        "\n",
        "with torch.no_grad():\n",
        "  for batch_idx, (data, label) in enumerate(data_loader['test']):\n",
        "    if(torch.cuda.is_available()):\n",
        "      data = data.cuda()\n",
        "      label = torch.LongTensor(label).cuda()\n",
        "    else:\n",
        "      data = data\n",
        "      label = torch.LongTensor(label)\n",
        "\n",
        "    output = model(data)\n",
        "\n",
        "    _, predict = torch.max(output.data, 1)\n",
        "    correct += (predict == label).sum().item()\n",
        "\n",
        "    for l, p in zip(label.view(-1), predict.view(-1)):\n",
        "      confusion_matrix[l.long(), p.long()] += 1\n",
        "\n",
        "len_cm = len(confusion_matrix)\n",
        "for i in range(len_cm):\n",
        "    sum_cm = np.sum(confusion_matrix[i])\n",
        "    for j in range(len_cm):\n",
        "        confusion_matrix[i][j] = 100 * (confusion_matrix[i][j] / sum_cm)\n",
        "\n",
        "classes = np.unique(train_label,return_counts=False)\n",
        "plt.imshow(confusion_matrix, interpolation='nearest', cmap=plt.cm.Blues)\n",
        "plt.title('Confusion matrix')\n",
        "plt.tight_layout()\n",
        "tick_marks = np.arange(len(classes))\n",
        "plt.xticks(tick_marks, classes, rotation=45)\n",
        "plt.yticks(tick_marks, classes)\n",
        "plt.ylabel('True')\n",
        "plt.xlabel('Predicted')\n",
        "plt.show()\n",
        "\n",
        "\n",
        "print('# Test Accuracy: {:.3f}[%]'.format(100. * correct / len(data_loader['test'].dataset)))"
      ],
      "metadata": {
        "id": "BE_j3VWqNA8Y",
        "colab": {
          "base_uri": "https://localhost:8080/",
          "height": 567
        },
        "outputId": "7651e6cd-b708-450f-858b-106c75e8fe25"
      },
      "execution_count": null,
      "outputs": [
        {
          "output_type": "stream",
          "name": "stderr",
          "text": [
            "<ipython-input-24-42adc96eb609>:27: RuntimeWarning: invalid value encountered in double_scalars\n",
            "  confusion_matrix[i][j] = 100 * (confusion_matrix[i][j] / sum_cm)\n"
          ]
        },
        {
          "output_type": "display_data",
          "data": {
            "text/plain": [
              "<Figure size 640x480 with 1 Axes>"
            ],
            "image/png": "[encoded data removed]"
          },
          "metadata": {}
        },
        {
          "output_type": "stream",
          "name": "stdout",
          "text": [
            "# Test Accuracy: 96.451[%]\n"
          ]
        }
      ]
    },
    {
      "cell_type": "markdown",
      "source": [
        "### Making onnx Models for graphical purpose"
      ],
      "metadata": {
        "id": "ppm-WdM1hlDR"
      }
    },
    {
      "cell_type": "code",
      "source": [
        "!pip install -q onnx"
      ],
      "metadata": {
        "id": "Hl4TC-X4jJeG"
      },
      "execution_count": null,
      "outputs": []
    },
    {
      "cell_type": "code",
      "source": [
        "input_names = [\"Skeleton\"]\n",
        "output_names = [\"Parkinson Prediction\"]\n",
        "\n",
        "stgcn_model = STGCN(num_classes=99,\n",
        "                    in_channels=3,\n",
        "                    t_kernel_size=9,\n",
        "                    hop_size=2)\n",
        "\n",
        "for data, label in data_loader['train']:\n",
        "  x = data\n",
        "  break\n",
        "\n",
        "torch.onnx.export(stgcn_model, x, \"stgcn_model.onnx\", input_names=input_names, output_names=output_names)"
      ],
      "metadata": {
        "id": "nZeY9pPVhwLm"
      },
      "execution_count": null,
      "outputs": []
    }
  ],
  "metadata": {
    "colab": {
      "provenance": [],
      "gpuType": "T4",
      "machine_shape": "hm"
    },
    "kernelspec": {
      "display_name": "Python 3",
      "name": "python3"
    },
    "accelerator": "GPU"
  },
  "nbformat": 4,
  "nbformat_minor": 0
}